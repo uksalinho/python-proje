{
 "cells": [
  {
   "cell_type": "code",
   "execution_count": 16,
   "metadata": {},
   "outputs": [
    {
     "name": "stdout",
     "output_type": "stream",
     "text": [
      "5\n",
      "1\n",
      "1\n",
      "1\n",
      "1\n",
      "40\n",
      "40\n",
      "40\n",
      "40\n",
      "[1, 2, 3, 5, 40]\n",
      "[40, 5, 3, 2, 1]\n",
      "[5, 40, 3, 2, 1]\n",
      "[5, 40, 3, 2, 1]\n"
     ]
    }
   ],
   "source": [
    "myList = [1,2,3,40,5]\n",
    "\n",
    "kaçeleman = len(myList)\n",
    "print(kaçeleman)\n",
    "\n",
    "# Listenin minimum elemanını bulmak için kullanılabilecek 4 farklı yöntem.\n",
    "enküçüğü = min(myList)\n",
    "print(enküçüğü)\n",
    "print(sorted(myList)[0])\n",
    "print(sorted(myList, reverse=True)[-1])\n",
    "print(sorted(myList, reverse=True)[len(myList) - 1])\n",
    "\n",
    "# Listenin maximum elemanını bulmak için kullanılabilecek 4 farklı yöntem.\n",
    "enbüyğü = max(myList)\n",
    "print(enbüyğü)\n",
    "print(sorted(myList)[-1])\n",
    "print(sorted(myList)[len(myList) - 1])\n",
    "print(sorted(myList, reverse=True)[0])\n",
    "\n",
    "# Küçükten büyüğe sıraladık.\n",
    "print(sorted(myList))\n",
    "\n",
    "# Büyükten küçüğe sıraladık.\n",
    "print(sorted(myList, reverse=True))\n",
    "\n",
    "# Aşağıdaki 2 li elemanları ters sırayla yazdırdı.\n",
    "\n",
    "print(myList[::-1])\n",
    "print(list(reversed(myList)))"
   ]
  }
 ],
 "metadata": {
  "interpreter": {
   "hash": "b3ba2566441a7c06988d0923437866b63cedc61552a5af99d1f4fb67d367b25f"
  },
  "kernelspec": {
   "display_name": "Python 3.8.5 ('base')",
   "language": "python",
   "name": "python3"
  },
  "language_info": {
   "codemirror_mode": {
    "name": "ipython",
    "version": 3
   },
   "file_extension": ".py",
   "mimetype": "text/x-python",
   "name": "python",
   "nbconvert_exporter": "python",
   "pygments_lexer": "ipython3",
   "version": "3.8.5"
  },
  "orig_nbformat": 4
 },
 "nbformat": 4,
 "nbformat_minor": 2
}
