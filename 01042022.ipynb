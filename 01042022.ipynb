{
 "cells": [
  {
   "cell_type": "code",
   "execution_count": 12,
   "metadata": {},
   "outputs": [
    {
     "name": "stdout",
     "output_type": "stream",
     "text": [
      "b karakterimiz textte toplam => 2\n",
      "l karakterimiz textte toplam => 9\n",
      "a karakterimiz textte toplam => 21\n",
      "o karakterimiz textte toplam => 2\n",
      "s karakterimiz textte toplam => 4\n",
      "y karakterimiz textte toplam => 4\n",
      "  karakterimiz textte toplam => 13\n",
      "ı karakterimiz textte toplam => 11\n",
      "t karakterimiz textte toplam => 5\n",
      "p karakterimiz textte toplam => 1\n",
      "k karakterimiz textte toplam => 9\n",
      "m karakterimiz textte toplam => 2\n",
      "H karakterimiz textte toplam => 1\n",
      "z karakterimiz textte toplam => 1\n",
      "n karakterimiz textte toplam => 13\n",
      ", karakterimiz textte toplam => 1\n",
      "f karakterimiz textte toplam => 1\n",
      "d karakterimiz textte toplam => 5\n",
      "u karakterimiz textte toplam => 2\n",
      "e karakterimiz textte toplam => 10\n",
      "ş karakterimiz textte toplam => 2\n",
      "ç karakterimiz textte toplam => 1\n",
      "ğ karakterimiz textte toplam => 1\n",
      ". karakterimiz textte toplam => 1\n",
      "r karakterimiz textte toplam => 10\n",
      "i karakterimiz textte toplam => 5\n",
      "{'b': 2, 'l': 9, 'a': 21, 'o': 2, 's': 4, 'y': 4, ' ': 13, 'ı': 11, 't': 5, 'p': 1, 'k': 9, 'm': 2, 'H': 1, 'z': 1, 'n': 13, ',': 1, 'f': 1, 'd': 5, 'u': 2, 'e': 10, 'ş': 2, 'ç': 1, 'ğ': 1, '.': 1, 'r': 10, 'i': 5}\n"
     ]
    }
   ],
   "source": [
    "text = \"Hayattaki başarısızlıkların çoğu, aslında insanların pes ettiklerinde başarıya ne kadar yakın olduklarını farketmemelerinden kaynaklanır.\"\n",
    "\n",
    "# max_frekanslı_karakter = []\n",
    "my_dictionary = {}\n",
    "\n",
    "for i in set(text):\n",
    "    print(f\"{i} karakterimiz textte toplam => {text.count(i)}\")\n",
    "    my_dictionary.update({ i : text.count(i)})\n",
    "    \n",
    "print(my_dictionary)"
   ]
  },
  {
   "cell_type": "code",
   "execution_count": 28,
   "metadata": {},
   "outputs": [
    {
     "name": "stdout",
     "output_type": "stream",
     "text": [
      "a\n",
      "26\n"
     ]
    }
   ],
   "source": [
    "# print(max(text, key = text.count))\n",
    "\n",
    "for i in my_dictionary.keys():\n",
    "    if my_dictionary[i] == max(my_dictionary.values()):\n",
    "        print(i)"
   ]
  },
  {
   "cell_type": "code",
   "execution_count": 39,
   "metadata": {},
   "outputs": [
    {
     "name": "stdout",
     "output_type": "stream",
     "text": [
      "[['b', 2], ['l', 9], ['a', 21], ['o', 2], ['s', 4], ['y', 4], [' ', 13], ['ı', 11], ['t', 5], ['p', 1], ['k', 9], ['m', 2], ['H', 1], ['z', 1], ['n', 13], [',', 1], ['f', 1], ['d', 5], ['u', 2], ['e', 10], ['ş', 2], ['ç', 1], ['ğ', 1], ['.', 1], ['r', 10], ['i', 5]]\n",
      "[7, 14, 26, 7, 9, 9, 18, 16, 10, 6, 14, 7, 6, 6, 18, 6, 6, 10, 7, 15, 7, 6, 6, 6, 15, 10]\n"
     ]
    }
   ],
   "source": [
    "# how can i reach every list items 2nd element\n",
    "text = \"Hayattaki başarısızlıkların çoğu, aslında insanların pes ettiklerinde başarıya ne kadar yakın olduklarını farketmemelerinden kaynaklanır.\"\n",
    "\n",
    "max_frekanslı_karakter = []\n",
    "\n",
    "for i in set(text):\n",
    "    # print(f\"{i} karakterimiz textte toplam => {text.count(i)}\")\n",
    "    max_frekanslı_karakter.append([i, text.count(i)])\n",
    "\n",
    "print(max_frekanslı_karakter)\n",
    "\n",
    "print([i[1] + 5 for i in max_frekanslı_karakter])\n"
   ]
  }
 ],
 "metadata": {
  "interpreter": {
   "hash": "eb95c163154bf792f24264adbf332ef22fdd7e5ef71aa2179ff0cd1911b9582a"
  },
  "kernelspec": {
   "display_name": "Python 3.10.2 64-bit",
   "language": "python",
   "name": "python3"
  },
  "language_info": {
   "codemirror_mode": {
    "name": "ipython",
    "version": 3
   },
   "file_extension": ".py",
   "mimetype": "text/x-python",
   "name": "python",
   "nbconvert_exporter": "python",
   "pygments_lexer": "ipython3",
   "version": "3.10.2"
  },
  "orig_nbformat": 4
 },
 "nbformat": 4,
 "nbformat_minor": 2
}
